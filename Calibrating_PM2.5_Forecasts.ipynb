{
 "cells": [
  {
   "cell_type": "markdown",
   "metadata": {},
   "source": [
    "# Import"
   ]
  },
  {
   "cell_type": "code",
   "execution_count": 76,
   "metadata": {},
   "outputs": [],
   "source": [
    "import numpy as np\n",
    "import pandas as pd\n",
    "import matplotlib.pyplot as plt\n",
    "import folium\n",
    "from folium import Map, CircleMarker, Vega, Popup,IFrame\n",
    "import base64\n",
    "from rpy2.robjects import r, numpy2ri\n",
    "from rpy2.robjects import numpy2ri\n",
    "numpy2ri.activate()\n",
    "from rpy2.robjects.packages import importr\n",
    "sinkr = importr('sinkr')"
   ]
  },
  {
   "cell_type": "markdown",
   "metadata": {},
   "source": [
    "# Estimate Beta_1 and Beta_0"
   ]
  },
  {
   "cell_type": "markdown",
   "metadata": {},
   "source": [
    "## Read data"
   ]
  },
  {
   "cell_type": "code",
   "execution_count": 41,
   "metadata": {
    "scrolled": true
   },
   "outputs": [],
   "source": [
    "data=pd.read_csv('v100_hr_20200101-0930_cut_utf8.csv')"
   ]
  },
  {
   "cell_type": "code",
   "execution_count": 77,
   "metadata": {},
   "outputs": [],
   "source": [
    "###\n",
    "#cal_PMf  \n",
    "###\n",
    "u=np.zeros([244,6816])\n",
    "for i in range (0,244):\n",
    "    a=np.array(data['cal_PMf'][6816*i:6816*i+6816])\n",
    "    for j in range(0,6816):\n",
    "        if a[j]=='\\\\N' :\n",
    "            a[j]=np.nan\n",
    "    u[i]=a.T\n",
    "###\n",
    "#obs_PMf\n",
    "###\n",
    "v=np.zeros([244,6816])\n",
    "for i in range (0,244):\n",
    "    a=np.array(data['obs_PMf'][6816*i:6816*i+6816])\n",
    "    for j in range(0,6816):\n",
    "        if a[j]=='\\\\N' :\n",
    "            a[j]=np.nan\n",
    "    v[i]=a.T\n",
    "###\n",
    "#station\n",
    "###\n",
    "station=np.zeros([71,2])\n",
    "for i in range (0,71):\n",
    "    station[i][0]=np.array(data['lat'][96*i])\n",
    "    station[i][1]=np.array(data['lon'][96*i])"
   ]
  },
  {
   "cell_type": "markdown",
   "metadata": {},
   "source": [
    "## DINEOF"
   ]
  },
  {
   "cell_type": "code",
   "execution_count": 78,
   "metadata": {},
   "outputs": [
    {
     "name": "stdout",
     "output_type": "stream",
     "text": [
      "[1]\n",
      " \"1 EOF ; RMS = 10.25375188\"\n",
      "\n",
      "\n",
      "[1]\n",
      " \"1 EOF ; RMS = 10.25426829\"\n",
      "\n",
      "\n",
      "[1]\n",
      " \"2 EOF ; RMS = 9.44158164\"\n",
      "\n",
      "\n",
      "[1]\n",
      " \"2 EOF ; RMS = 9.44215172\"\n",
      "\n",
      "\n",
      "[1]\n",
      " \"3 EOF ; RMS = 9.15515253\"\n",
      "\n",
      "\n",
      "[1]\n",
      " \"3 EOF ; RMS = 9.15895586\"\n",
      "\n",
      "\n",
      "[1]\n",
      " \"4 EOF ; RMS = 8.89943805\"\n",
      "\n",
      "\n",
      "[1]\n",
      " \"4 EOF ; RMS = 8.90352053\"\n",
      "\n",
      "\n",
      "[1]\n",
      " \"5 EOF ; RMS = 8.68801784\"\n",
      "\n",
      "\n",
      "[1]\n",
      " \"5 EOF ; RMS = 8.68735783\"\n",
      "\n",
      "\n",
      "[1]\n",
      " \"5 EOF ; RMS = 8.68807979\"\n",
      "\n",
      "\n",
      "[1]\n",
      " \"6 EOF ; RMS = 8.56400474\"\n",
      "\n",
      "\n",
      "[1]\n",
      " \"6 EOF ; RMS = 8.56896657\"\n",
      "\n",
      "\n",
      "[1]\n",
      " \"7 EOF ; RMS = 8.52143717\"\n",
      "\n",
      "\n",
      "[1]\n",
      " \"7 EOF ; RMS = 8.53574762\"\n",
      "\n",
      "\n",
      "[1]\n",
      " \"8 EOF ; RMS = 8.4615365\"\n",
      "\n",
      "\n",
      "[1]\n",
      " \"8 EOF ; RMS = 8.49275116\"\n",
      "\n",
      "\n",
      "[1]\n",
      " \"9 EOF ; RMS = 8.41344513\"\n",
      "\n",
      "\n",
      "[1]\n",
      " \"9 EOF ; RMS = 8.42573847\"\n",
      "\n",
      "\n",
      "[1]\n",
      " \"10 EOF ; RMS = 8.36043135\"\n",
      "\n",
      "\n",
      "[1]\n",
      " \"10 EOF ; RMS = 8.36589211\"\n",
      "\n",
      "\n",
      "[1]\n",
      " \"11 EOF ; RMS = 8.31873815\"\n",
      "\n",
      "\n",
      "[1]\n",
      " \"11 EOF ; RMS = 8.34390506\"\n",
      "\n",
      "\n",
      "[1]\n",
      " \"12 EOF ; RMS = 8.28170345\"\n",
      "\n",
      "\n",
      "[1]\n",
      " \"12 EOF ; RMS = 8.2914232\"\n",
      "\n",
      "\n",
      "[1]\n",
      " \"13 EOF ; RMS = 8.23107545\"\n",
      "\n",
      "\n",
      "[1]\n",
      " \"13 EOF ; RMS = 8.2399007\"\n",
      "\n",
      "\n",
      "[1]\n",
      " \"14 EOF ; RMS = 8.21447886\"\n",
      "\n",
      "\n",
      "[1]\n",
      " \"14 EOF ; RMS = 8.23309391\"\n",
      "\n",
      "\n",
      "[1]\n",
      " \"15 EOF ; RMS = 8.23113636\"\n",
      "\n",
      "\n",
      "[1]\n",
      " \"15 EOF ; RMS = 8.25306753\"\n",
      "\n",
      "\n",
      "[1]\n",
      " \"16 EOF ; RMS = 8.22761825\"\n",
      "\n",
      "\n",
      "[1]\n",
      " \"16 EOF ; RMS = 8.25061149\"\n",
      "\n",
      "\n",
      "[1]\n",
      " \"17 EOF ; RMS = 8.25388645\"\n",
      "\n",
      "\n",
      "[1]\n",
      " \"1 EOF ; RMS = 7.9317067\"\n",
      "\n",
      "\n",
      "[1]\n",
      " \"1 EOF ; RMS = 7.89812628\"\n",
      "\n",
      "\n",
      "[1]\n",
      " \"1 EOF ; RMS = 7.89846036\"\n",
      "\n",
      "\n",
      "[1]\n",
      " \"2 EOF ; RMS = 7.30754454\"\n",
      "\n",
      "\n",
      "[1]\n",
      " \"2 EOF ; RMS = 7.31003408\"\n",
      "\n",
      "\n",
      "[1]\n",
      " \"3 EOF ; RMS = 6.84992325\"\n",
      "\n",
      "\n",
      "[1]\n",
      " \"3 EOF ; RMS = 6.84922572\"\n",
      "\n",
      "\n",
      "[1]\n",
      " \"3 EOF ; RMS = 6.84920102\"\n",
      "\n",
      "\n",
      "[1]\n",
      " \"3 EOF ; RMS = 6.84918797\"\n",
      "\n",
      "\n",
      "[1]\n",
      " \"3 EOF ; RMS = 6.84918416\"\n",
      "\n",
      "\n",
      "[1]\n",
      " \"4 EOF ; RMS = 6.57972057\"\n",
      "\n",
      "\n",
      "[1]\n",
      " \"4 EOF ; RMS = 6.58280649\"\n",
      "\n",
      "\n",
      "[1]\n",
      " \"5 EOF ; RMS = 6.43828356\"\n",
      "\n",
      "\n",
      "[1]\n",
      " \"5 EOF ; RMS = 6.44097747\"\n",
      "\n",
      "\n",
      "[1]\n",
      " \"6 EOF ; RMS = 6.29536495\"\n",
      "\n",
      "\n",
      "[1]\n",
      " \"6 EOF ; RMS = 6.29794892\"\n",
      "\n",
      "\n",
      "[1]\n",
      " \"7 EOF ; RMS = 6.19249208\"\n",
      "\n",
      "\n",
      "[1]\n",
      " \"7 EOF ; RMS = 6.19765135\"\n",
      "\n",
      "\n",
      "[1]\n",
      " \"8 EOF ; RMS = 6.08917039\"\n",
      "\n",
      "\n",
      "[1]\n",
      " \"8 EOF ; RMS = 6.09198951\"\n",
      "\n",
      "\n",
      "[1]\n",
      " \"9 EOF ; RMS = 5.98093494\"\n",
      "\n",
      "\n",
      "[1]\n",
      " \"9 EOF ; RMS = 5.98350448\"\n",
      "\n",
      "\n",
      "[1]\n",
      " \"10 EOF ; RMS = 5.88911475\"\n",
      "\n",
      "\n",
      "[1]\n",
      " \"10 EOF ; RMS = 5.89028817\"\n",
      "\n",
      "\n",
      "[1]\n",
      " \"11 EOF ; RMS = 5.80675614\"\n",
      "\n",
      "\n",
      "[1]\n",
      " \"11 EOF ; RMS = 5.8136264\"\n",
      "\n",
      "\n",
      "[1]\n",
      " \"12 EOF ; RMS = 5.7231587\"\n",
      "\n",
      "\n",
      "[1]\n",
      " \"12 EOF ; RMS = 5.72399579\"\n",
      "\n",
      "\n",
      "[1]\n",
      " \"13 EOF ; RMS = 5.64389793\"\n",
      "\n",
      "\n",
      "[1]\n",
      " \"13 EOF ; RMS = 5.64442399\"\n",
      "\n",
      "\n",
      "[1]\n",
      " \"14 EOF ; RMS = 5.59710434\"\n",
      "\n",
      "\n",
      "[1]\n",
      " \"14 EOF ; RMS = 5.60163078\"\n",
      "\n",
      "\n",
      "[1]\n",
      " \"15 EOF ; RMS = 5.55586946\"\n",
      "\n",
      "\n",
      "[1]\n",
      " \"15 EOF ; RMS = 5.55952296\"\n",
      "\n",
      "\n",
      "[1]\n",
      " \"16 EOF ; RMS = 5.52135853\"\n",
      "\n",
      "\n",
      "[1]\n",
      " \"16 EOF ; RMS = 5.52503898\"\n",
      "\n",
      "\n",
      "[1]\n",
      " \"17 EOF ; RMS = 5.48926105\"\n",
      "\n",
      "\n",
      "[1]\n",
      " \"17 EOF ; RMS = 5.4923452\"\n",
      "\n",
      "\n",
      "[1]\n",
      " \"18 EOF ; RMS = 5.46689635\"\n",
      "\n",
      "\n",
      "[1]\n",
      " \"18 EOF ; RMS = 5.47181185\"\n",
      "\n",
      "\n",
      "[1]\n",
      " \"19 EOF ; RMS = 5.45323899\"\n",
      "\n",
      "\n",
      "[1]\n",
      " \"19 EOF ; RMS = 5.46003272\"\n",
      "\n",
      "\n",
      "[1]\n",
      " \"20 EOF ; RMS = 5.43524729\"\n",
      "\n",
      "\n",
      "[1]\n",
      " \"20 EOF ; RMS = 5.4432763\"\n",
      "\n",
      "\n",
      "[1]\n",
      " \"21 EOF ; RMS = 5.42602617\"\n",
      "\n",
      "\n",
      "[1]\n",
      " \"21 EOF ; RMS = 5.43377174\"\n",
      "\n",
      "\n",
      "[1]\n",
      " \"22 EOF ; RMS = 5.4124016\"\n",
      "\n",
      "\n",
      "[1]\n",
      " \"22 EOF ; RMS = 5.42222723\"\n",
      "\n",
      "\n",
      "[1]\n",
      " \"23 EOF ; RMS = 5.40037645\"\n",
      "\n",
      "\n",
      "[1]\n",
      " \"23 EOF ; RMS = 5.40715329\"\n",
      "\n",
      "\n",
      "[1]\n",
      " \"24 EOF ; RMS = 5.39872052\"\n",
      "\n",
      "\n",
      "[1]\n",
      " \"24 EOF ; RMS = 5.41169843\"\n",
      "\n",
      "\n",
      "[1]\n",
      " \"25 EOF ; RMS = 5.39882534\"\n",
      "\n",
      "\n",
      "[1]\n",
      " \"25 EOF ; RMS = 5.40702582\"\n",
      "\n",
      "\n",
      "[1]\n",
      " \"26 EOF ; RMS = 5.39257638\"\n",
      "\n",
      "\n",
      "[1]\n",
      " \"26 EOF ; RMS = 5.39875452\"\n",
      "\n",
      "\n",
      "[1]\n",
      " \"27 EOF ; RMS = 5.37826206\"\n",
      "\n",
      "\n",
      "[1]\n",
      " \"27 EOF ; RMS = 5.38246662\"\n",
      "\n",
      "\n",
      "[1]\n",
      " \"28 EOF ; RMS = 5.36278147\"\n",
      "\n",
      "\n",
      "[1]\n",
      " \"28 EOF ; RMS = 5.36842232\"\n",
      "\n",
      "\n",
      "[1]\n",
      " \"29 EOF ; RMS = 5.34995283\"\n",
      "\n",
      "\n",
      "[1]\n",
      " \"29 EOF ; RMS = 5.35578215\"\n",
      "\n",
      "\n",
      "[1]\n",
      " \"30 EOF ; RMS = 5.33583652\"\n",
      "\n",
      "\n",
      "[1]\n",
      " \"30 EOF ; RMS = 5.34388595\"\n",
      "\n",
      "\n",
      "[1]\n",
      " \"31 EOF ; RMS = 5.33064522\"\n",
      "\n",
      "\n",
      "[1]\n",
      " \"31 EOF ; RMS = 5.34047541\"\n",
      "\n",
      "\n",
      "[1]\n",
      " \"32 EOF ; RMS = 5.32602377\"\n",
      "\n",
      "\n",
      "[1]\n",
      " \"32 EOF ; RMS = 5.33447266\"\n",
      "\n",
      "\n",
      "[1]\n",
      " \"33 EOF ; RMS = 5.32513335\"\n",
      "\n",
      "\n",
      "[1]\n",
      " \"33 EOF ; RMS = 5.33491709\"\n",
      "\n",
      "\n",
      "[1]\n",
      " \"34 EOF ; RMS = 5.3376054\"\n",
      "\n",
      "\n"
     ]
    }
   ],
   "source": [
    "XRestruct=sinkr.dineof(u)\n",
    "YRestruct=sinkr.dineof(v)"
   ]
  },
  {
   "cell_type": "markdown",
   "metadata": {},
   "source": [
    "## Restruct Function"
   ]
  },
  {
   "cell_type": "code",
   "execution_count": 79,
   "metadata": {},
   "outputs": [],
   "source": [
    "XRestruct_Fun=np.array(XRestruct[0])\n",
    "YRestruct_Fun=np.array(YRestruct[0])\n",
    "###\n",
    "#covariance function\n",
    "###\n",
    "XCov_fun=np.cov(XRestruct_Fun.T)\n",
    "###\n",
    "#mean function\n",
    "###\n",
    "XMean_fun=np.zeros(6816)\n",
    "YMean_fun=np.zeros(6816)\n",
    "for i in range(0,6816):\n",
    "    for j in range(0,244):\n",
    "        XMean_fun[i]=XMean_fun[i]+(XRestruct_Fun[j][i]/244)\n",
    "        YMean_fun[i]=YMean_fun[i]+(YRestruct_Fun[j][i]/244)\n",
    "###\n",
    "#construct Function\n",
    "###\n",
    "Xhat=XRestruct_Fun\n",
    "Yhat=YRestruct_Fun\n",
    "Xbar=XMean_fun\n",
    "Ybar=YMean_fun"
   ]
  },
  {
   "cell_type": "markdown",
   "metadata": {},
   "source": [
    "## Regression"
   ]
  },
  {
   "cell_type": "code",
   "execution_count": 80,
   "metadata": {},
   "outputs": [],
   "source": [
    "###\n",
    "#G_xx\n",
    "###\n",
    "G_xx=XCov_fun\n",
    "G_xxt=np.zeros(6816)\n",
    "for i in range(0,6816):\n",
    "     G_xxt[i]=G_xx[i][i]\n",
    "###\n",
    "#G_xy\n",
    "###\n",
    "G_xy=0\n",
    "for i in range (0,244):\n",
    "    G_xyi=(Xhat[i]-Xbar)*(Yhat[i]-Ybar)\n",
    "    G_xy=G_xy+G_xyi\n",
    "G_xy=G_xy/243"
   ]
  },
  {
   "cell_type": "markdown",
   "metadata": {},
   "source": [
    "## Made beta"
   ]
  },
  {
   "cell_type": "code",
   "execution_count": 82,
   "metadata": {},
   "outputs": [],
   "source": [
    "###\n",
    "#Beta_1\n",
    "###\n",
    "B_1=G_xy/G_xxt\n",
    "###\n",
    "#Beta_0\n",
    "###\n",
    "B_0=YMean_fun-(B_1*XMean_fun)"
   ]
  },
  {
   "cell_type": "markdown",
   "metadata": {},
   "source": [
    "# Calibrating Data"
   ]
  },
  {
   "cell_type": "markdown",
   "metadata": {},
   "source": [
    "## Read data"
   ]
  },
  {
   "cell_type": "code",
   "execution_count": 83,
   "metadata": {},
   "outputs": [],
   "source": [
    "###\n",
    "#cal_PMf  \n",
    "###\n",
    "before_fx=np.zeros([274,6816])\n",
    "for i in range (0,274):\n",
    "    a=np.array(data['cal_PMf'][6816*i:6816*i+6816])\n",
    "    for j in range(0,6816):\n",
    "        if a[j]=='\\\\N' :\n",
    "            a[j]=np.nan\n",
    "    before_fx[i]=a"
   ]
  },
  {
   "cell_type": "markdown",
   "metadata": {},
   "source": [
    "## DINEOF"
   ]
  },
  {
   "cell_type": "code",
   "execution_count": 85,
   "metadata": {},
   "outputs": [
    {
     "name": "stdout",
     "output_type": "stream",
     "text": [
      "[1]\n",
      " \"1 EOF ; RMS = 10.12956684\"\n",
      "\n",
      "\n",
      "[1]\n",
      " \"1 EOF ; RMS = 10.11764061\"\n",
      "\n",
      "\n",
      "[1]\n",
      " \"1 EOF ; RMS = 10.11739192\"\n",
      "\n",
      "\n",
      "[1]\n",
      " \"1 EOF ; RMS = 10.11739563\"\n",
      "\n",
      "\n",
      "[1]\n",
      " \"2 EOF ; RMS = 9.33584317\"\n",
      "\n",
      "\n",
      "[1]\n",
      " \"2 EOF ; RMS = 9.33768636\"\n",
      "\n",
      "\n",
      "[1]\n",
      " \"3 EOF ; RMS = 9.04477077\"\n",
      "\n",
      "\n",
      "[1]\n",
      " \"3 EOF ; RMS = 9.04692851\"\n",
      "\n",
      "\n",
      "[1]\n",
      " \"4 EOF ; RMS = 8.79399686\"\n",
      "\n",
      "\n",
      "[1]\n",
      " \"4 EOF ; RMS = 8.79296715\"\n",
      "\n",
      "\n",
      "[1]\n",
      " \"4 EOF ; RMS = 8.7927758\"\n",
      "\n",
      "\n",
      "[1]\n",
      " \"4 EOF ; RMS = 8.79268799\"\n",
      "\n",
      "\n",
      "[1]\n",
      " \"4 EOF ; RMS = 8.79264376\"\n",
      "\n",
      "\n",
      "[1]\n",
      " \"4 EOF ; RMS = 8.79262061\"\n",
      "\n",
      "\n",
      "[1]\n",
      " \"4 EOF ; RMS = 8.79260838\"\n",
      "\n",
      "\n",
      "[1]\n",
      " \"4 EOF ; RMS = 8.79260191\"\n",
      "\n",
      "\n",
      "[1]\n",
      " \"5 EOF ; RMS = 8.63410591\"\n",
      "\n",
      "\n",
      "[1]\n",
      " \"5 EOF ; RMS = 8.64242549\"\n",
      "\n",
      "\n",
      "[1]\n",
      " \"6 EOF ; RMS = 8.52570936\"\n",
      "\n",
      "\n",
      "[1]\n",
      " \"6 EOF ; RMS = 8.53561919\"\n",
      "\n",
      "\n",
      "[1]\n",
      " \"7 EOF ; RMS = 8.46165368\"\n",
      "\n",
      "\n",
      "[1]\n",
      " \"7 EOF ; RMS = 8.4712008\"\n",
      "\n",
      "\n",
      "[1]\n",
      " \"8 EOF ; RMS = 8.41018408\"\n",
      "\n",
      "\n",
      "[1]\n",
      " \"8 EOF ; RMS = 8.42661144\"\n",
      "\n",
      "\n",
      "[1]\n",
      " \"9 EOF ; RMS = 8.36636456\"\n",
      "\n",
      "\n",
      "[1]\n",
      " \"9 EOF ; RMS = 8.3841926\"\n",
      "\n",
      "\n",
      "[1]\n",
      " \"10 EOF ; RMS = 8.37787736\"\n",
      "\n",
      "\n",
      "[1]\n",
      " \"10 EOF ; RMS = 8.40116304\"\n",
      "\n",
      "\n",
      "[1]\n",
      " \"11 EOF ; RMS = 8.36295783\"\n",
      "\n",
      "\n",
      "[1]\n",
      " \"11 EOF ; RMS = 8.37950068\"\n",
      "\n",
      "\n",
      "[1]\n",
      " \"12 EOF ; RMS = 8.33471152\"\n",
      "\n",
      "\n",
      "[1]\n",
      " \"12 EOF ; RMS = 8.35350539\"\n",
      "\n",
      "\n",
      "[1]\n",
      " \"13 EOF ; RMS = 8.29361028\"\n",
      "\n",
      "\n",
      "[1]\n",
      " \"13 EOF ; RMS = 8.29761815\"\n",
      "\n",
      "\n",
      "[1]\n",
      " \"14 EOF ; RMS = 8.24645273\"\n",
      "\n",
      "\n",
      "[1]\n",
      " \"14 EOF ; RMS = 8.2554027\"\n",
      "\n",
      "\n",
      "[1]\n",
      " \"15 EOF ; RMS = 8.24771916\"\n",
      "\n",
      "\n",
      "[1]\n",
      " \"15 EOF ; RMS = 8.2680964\"\n",
      "\n",
      "\n",
      "[1]\n",
      " \"16 EOF ; RMS = 8.26142711\"\n",
      "\n",
      "\n",
      "[1]\n",
      " \"16 EOF ; RMS = 8.28670462\"\n",
      "\n",
      "\n",
      "[1]\n",
      " \"17 EOF ; RMS = 8.28783556\"\n",
      "\n",
      "\n"
     ]
    }
   ],
   "source": [
    "after_fx_r=sinkr.dineof(before_fx)\n",
    "after_fx=np.array(after_fx_r[0])"
   ]
  },
  {
   "cell_type": "markdown",
   "metadata": {},
   "source": [
    "## Generate Calibrating Data"
   ]
  },
  {
   "cell_type": "code",
   "execution_count": 86,
   "metadata": {},
   "outputs": [],
   "source": [
    "###\n",
    "#Calibrating cal_PMf  \n",
    "###\n",
    "fit_fx=B_0+(B_1*after_fx)"
   ]
  },
  {
   "cell_type": "markdown",
   "metadata": {},
   "source": [
    "# Compare"
   ]
  },
  {
   "cell_type": "markdown",
   "metadata": {},
   "source": [
    "## Read data"
   ]
  },
  {
   "cell_type": "code",
   "execution_count": 87,
   "metadata": {},
   "outputs": [],
   "source": [
    "old_x=np.zeros([274,6816])\n",
    "old_y=np.zeros([274,6816])\n",
    "###\n",
    "#cal_PMf  \n",
    "###\n",
    "for i in range (0,274):\n",
    "    a=np.array(data['cal_PMf'][6816*i:6816*i+6816])\n",
    "    for j in range(0,6816):\n",
    "        if a[j]=='\\\\N' :\n",
    "            a[j]=0\n",
    "    old_x[i]=a\n",
    "###\n",
    "#obs_PMf\n",
    "###\n",
    "for i in range (0,274):\n",
    "    a=np.array(data['obs_PMf'][6816*i:6816*i+6816])\n",
    "    for j in range(0,6816):\n",
    "        if a[j]=='\\\\N' :\n",
    "            a[j]=0\n",
    "    old_y[i]=a\n",
    "###\n",
    "#Delete data correspond missing data\n",
    "###\n",
    "for i in range(0,274):\n",
    "    for j in range(6816):\n",
    "        if old_x[i][j]==0:\n",
    "            old_y[i][j]=0\n",
    "            fit_fx[i][j]=0\n",
    "        if old_y[i][j]==0:\n",
    "            old_x[i][j]=0\n",
    "            fit_fx[i][j]=0"
   ]
  },
  {
   "cell_type": "markdown",
   "metadata": {},
   "source": [
    "## Totol MADE (mean absolute deviation error)"
   ]
  },
  {
   "cell_type": "markdown",
   "metadata": {},
   "source": [
    "(i) Compare January to August (training data set)"
   ]
  },
  {
   "cell_type": "code",
   "execution_count": 89,
   "metadata": {},
   "outputs": [
    {
     "name": "stdout",
     "output_type": "stream",
     "text": [
      "January to August (training data set) before_error: 7.961740\n",
      "January to August (training data set) after_error: 6.546843\n"
     ]
    }
   ],
   "source": [
    "before_error1=0\n",
    "after_error1=0\n",
    "for i in range (0,244):\n",
    "    for j in range(0,6816):\n",
    "        before_error1=before_error1+abs(old_x[i][j]-old_y[i][j])\n",
    "        after_error1=after_error1+abs(fit_fx[i][j]-old_y[i][j])\n",
    "before_error1=before_error1/244/6816\n",
    "after_error1=after_error1/244/6816\n",
    "print(\"January to August (training data set) before_error: %f\" %before_error1)\n",
    "print(\"January to August (training data set) after_error: %f\" %after_error1)"
   ]
  },
  {
   "cell_type": "markdown",
   "metadata": {},
   "source": [
    "(ii) Compare September (testing data set)"
   ]
  },
  {
   "cell_type": "code",
   "execution_count": 90,
   "metadata": {},
   "outputs": [
    {
     "name": "stdout",
     "output_type": "stream",
     "text": [
      "September (testing data set) before_error: 7.356276\n",
      "September (testing data set) after_error: 5.728337\n"
     ]
    }
   ],
   "source": [
    "before_error2=0\n",
    "after_error2=0\n",
    "for i in range (244,274):\n",
    "    for j in range(0,6816):\n",
    "        before_error2=before_error2+abs(old_x[i][j]-old_y[i][j])\n",
    "        after_error2=after_error2+abs(fit_fx[i][j]-old_y[i][j])\n",
    "before_error2=before_error2/30/6816\n",
    "after_error2=after_error2/30/6816\n",
    "print(\"September (testing data set) before_error: %f\" %before_error2)\n",
    "print(\"September (testing data set) after_error: %f\" %after_error2)"
   ]
  },
  {
   "cell_type": "markdown",
   "metadata": {},
   "source": [
    "## MADE with days (以預測日來看)"
   ]
  },
  {
   "cell_type": "markdown",
   "metadata": {},
   "source": [
    "(i) Compare January to August (training data set)"
   ]
  },
  {
   "cell_type": "code",
   "execution_count": 91,
   "metadata": {},
   "outputs": [],
   "source": [
    "caldays_before_error1=np.zeros(244)\n",
    "caldays_after_error1=np.zeros(244)\n",
    "error1=0\n",
    "error2=0\n",
    "for i in range (0,244):\n",
    "    for j in range(0,6816):\n",
    "        error1=error1+abs(old_x[i][j]-old_y[i][j])\n",
    "        error2=error2+abs(fit_fx[i][j]-old_y[i][j])\n",
    "    caldays_before_error1[i]=error1/6816\n",
    "    caldays_after_error1[i]=error2/6816\n",
    "    error1=0\n",
    "    error2=0"
   ]
  },
  {
   "cell_type": "code",
   "execution_count": 92,
   "metadata": {},
   "outputs": [
    {
     "data": {
      "image/png": "[encoded data removed]",
      "text/plain": [
       "<Figure size 432x288 with 1 Axes>"
      ]
     },
     "metadata": {
      "needs_background": "light",
      "transient": {}
     },
     "output_type": "display_data"
    },
    {
     "data": {
      "image/png": "[encoded data removed]",
      "text/plain": [
       "<Figure size 432x288 with 1 Axes>"
      ]
     },
     "metadata": {
      "needs_background": "light",
      "transient": {}
     },
     "output_type": "display_data"
    }
   ],
   "source": [
    "fig1 = plt.figure(1)\n",
    "x=np.linspace(1,244,244)\n",
    "plt.plot(x,caldays_before_error1, label = 'before')\n",
    "plt.plot(x,caldays_after_error1, label ='after')\n",
    "plt.legend(loc = 1)\n",
    "plt.title('caldays error at 1/1~8/31')\n",
    "\n",
    "fig2 = plt.figure(2)\n",
    "plt.boxplot([caldays_before_error1,caldays_after_error1], labels=('before','after'))\n",
    "plt.title(\"caldays error at 1/1~8/31\")\n",
    "\n",
    "plt.show()"
   ]
  },
  {
   "cell_type": "markdown",
   "metadata": {},
   "source": [
    "(ii) Compare September (testing data set)"
   ]
  },
  {
   "cell_type": "code",
   "execution_count": 93,
   "metadata": {},
   "outputs": [],
   "source": [
    "caldays_before_error2=np.zeros(30)\n",
    "caldays_after_error2=np.zeros(30)\n",
    "error1=0\n",
    "error2=0\n",
    "for i in range (244,274):\n",
    "    for j in range(0,6816):\n",
    "        error1=error1+abs(old_x[i][j]-old_y[i][j])\n",
    "        error2=error2+abs(fit_fx[i][j]-old_y[i][j])\n",
    "    caldays_before_error2[i-244]=error1/6816\n",
    "    caldays_after_error2[i-244]=error2/6816\n",
    "    error1=0\n",
    "    error2=0"
   ]
  },
  {
   "cell_type": "code",
   "execution_count": 95,
   "metadata": {},
   "outputs": [
    {
     "data": {
      "image/png": "[encoded data removed]",
      "text/plain": [
       "<Figure size 432x288 with 1 Axes>"
      ]
     },
     "metadata": {
      "needs_background": "light",
      "transient": {}
     },
     "output_type": "display_data"
    },
    {
     "data": {
      "image/png": "[encoded data removed]",
      "text/plain": [
       "<Figure size 432x288 with 1 Axes>"
      ]
     },
     "metadata": {
      "needs_background": "light",
      "transient": {}
     },
     "output_type": "display_data"
    }
   ],
   "source": [
    "fig1 = plt.figure(1)\n",
    "x=np.linspace(1,30,30)\n",
    "plt.plot(x,caldays_before_error2, label = 'before')\n",
    "plt.plot(x,caldays_after_error2, label ='after')\n",
    "plt.legend(loc = 1)\n",
    "plt.title('caldays error at 9/1~9/30')\n",
    "\n",
    "fig2 = plt.figure(2)\n",
    "plt.boxplot([caldays_before_error2,caldays_after_error2], labels=('before','after'))\n",
    "plt.title(\"caldays error at 9/1~9/30\")\n",
    "\n",
    "plt.show()"
   ]
  },
  {
   "cell_type": "markdown",
   "metadata": {},
   "source": [
    "## MADE with cal after how much days (以對第幾天後的預測來看)"
   ]
  },
  {
   "cell_type": "markdown",
   "metadata": {},
   "source": [
    "(i) Compare January to August (training data set)"
   ]
  },
  {
   "cell_type": "code",
   "execution_count": 96,
   "metadata": {},
   "outputs": [],
   "source": [
    "days_before_error1=np.zeros(4)\n",
    "days_after_error1=np.zeros(4)\n",
    "error1=0\n",
    "error2=0\n",
    "for k in range(0,4):\n",
    "    for i in range (0,244):\n",
    "        for j in range(0,71):\n",
    "            for l in range(24*k,24*(k+1)):\n",
    "                error1=error1+abs(old_x[i][(j*96)+l]-old_y[i][(j*96)+l])\n",
    "                error2=error2+abs(fit_fx[i][(j*96)+l]-old_y[i][(j*96)+l])\n",
    "    days_before_error1[k]=error1/244/71/24\n",
    "    days_after_error1[k]=error2/244/71/24\n",
    "    error1=0\n",
    "    error2=0"
   ]
  },
  {
   "cell_type": "code",
   "execution_count": 97,
   "metadata": {},
   "outputs": [
    {
     "data": {
      "image/png": "[encoded data removed]",
      "text/plain": [
       "<Figure size 432x288 with 1 Axes>"
      ]
     },
     "metadata": {
      "needs_background": "light",
      "transient": {}
     },
     "output_type": "display_data"
    },
    {
     "data": {
      "image/png": "[encoded data removed]",
      "text/plain": [
       "<Figure size 432x288 with 1 Axes>"
      ]
     },
     "metadata": {
      "needs_background": "light",
      "transient": {}
     },
     "output_type": "display_data"
    }
   ],
   "source": [
    "fig1 = plt.figure(1)\n",
    "x=np.linspace(1,4,4)\n",
    "plt.plot(x,days_before_error1, label = 'before')\n",
    "plt.plot(x,days_after_error1, label ='after')\n",
    "plt.legend(loc = 1)\n",
    "plt.title('cal after how much days error at 1/1~8/31')\n",
    "\n",
    "fig2 = plt.figure(2)\n",
    "plt.boxplot([days_before_error1,days_after_error1], labels=('before','after'))\n",
    "plt.title(\"cal after how much days error at 1/1~8/31\")\n",
    "\n",
    "plt.show()"
   ]
  },
  {
   "cell_type": "markdown",
   "metadata": {},
   "source": [
    "(ii) Compare September (testing data set)"
   ]
  },
  {
   "cell_type": "code",
   "execution_count": 98,
   "metadata": {},
   "outputs": [],
   "source": [
    "days_before_error2=np.zeros(4)\n",
    "days_after_error2=np.zeros(4)\n",
    "error1=0\n",
    "error2=0\n",
    "for k in range(0,4):\n",
    "    for i in range (244,274):\n",
    "        for j in range(0,71):\n",
    "            for l in range(24*k,24*(k+1)):\n",
    "                error1=error1+abs(old_x[i][(j*96)+l]-old_y[i][(j*96)+l])\n",
    "                error2=error2+abs(fit_fx[i][(j*96)+l]-old_y[i][(j*96)+l])\n",
    "    days_before_error2[k]=error1/30/71/24\n",
    "    days_after_error2[k]=error2/30/71/24\n",
    "    error1=0\n",
    "    error2=0"
   ]
  },
  {
   "cell_type": "code",
   "execution_count": 99,
   "metadata": {},
   "outputs": [
    {
     "data": {
      "image/png": "[encoded data removed]",
      "text/plain": [
       "<Figure size 432x288 with 1 Axes>"
      ]
     },
     "metadata": {
      "needs_background": "light",
      "transient": {}
     },
     "output_type": "display_data"
    },
    {
     "data": {
      "image/png": "[encoded data removed]",
      "text/plain": [
       "<Figure size 432x288 with 1 Axes>"
      ]
     },
     "metadata": {
      "needs_background": "light",
      "transient": {}
     },
     "output_type": "display_data"
    }
   ],
   "source": [
    "fig1 = plt.figure(1)\n",
    "x=np.linspace(1,4,4)\n",
    "plt.plot(x,days_before_error2, label = 'before')\n",
    "plt.plot(x,days_after_error2, label ='after')\n",
    "plt.legend(loc = 1)\n",
    "plt.title('cal after how much days error at 9/1~9/30')\n",
    "\n",
    "fig2 = plt.figure(2)\n",
    "plt.boxplot([days_before_error2,days_after_error2], labels=('before','after'))\n",
    "plt.title(\"cal after how much days error at 9/1~9/30\")\n",
    "\n",
    "plt.show()"
   ]
  },
  {
   "cell_type": "markdown",
   "metadata": {},
   "source": [
    "## MADE with cal after how much hours (以對第幾小時後的預測來看)"
   ]
  },
  {
   "cell_type": "markdown",
   "metadata": {},
   "source": [
    "(i) Compare January to August (training data set)"
   ]
  },
  {
   "cell_type": "code",
   "execution_count": 100,
   "metadata": {},
   "outputs": [],
   "source": [
    "hours_before_error1=np.zeros(96)\n",
    "hours_after_error1=np.zeros(96)\n",
    "error1=0\n",
    "error2=0\n",
    "for k in range(0,96):\n",
    "    for i in range (0,244):\n",
    "        for j in range(0,71):\n",
    "            error1=error1+abs(old_x[i][(j*96)+k]-old_y[i][(j*96)+k])\n",
    "            error2=error2+abs(fit_fx[i][(j*96)+k]-old_y[i][(j*96)+k])\n",
    "    hours_before_error1[k]=error1/244/71\n",
    "    hours_after_error1[k]=error2/244/71\n",
    "    error1=0\n",
    "    error2=0"
   ]
  },
  {
   "cell_type": "code",
   "execution_count": 101,
   "metadata": {},
   "outputs": [
    {
     "data": {
      "image/png": "[encoded data removed]",
      "text/plain": [
       "<Figure size 432x288 with 1 Axes>"
      ]
     },
     "metadata": {
      "needs_background": "light",
      "transient": {}
     },
     "output_type": "display_data"
    },
    {
     "data": {
      "image/png": "[encoded data removed]",
      "text/plain": [
       "<Figure size 432x288 with 1 Axes>"
      ]
     },
     "metadata": {
      "needs_background": "light",
      "transient": {}
     },
     "output_type": "display_data"
    }
   ],
   "source": [
    "fig1 = plt.figure(1)\n",
    "x=np.linspace(1,96,96)\n",
    "plt.plot(x,hours_before_error1, label = 'before')\n",
    "plt.plot(x,hours_after_error1, label ='after')\n",
    "plt.legend(loc = 1)\n",
    "plt.title('cal after how much hours error at 1/1~8/31')\n",
    "\n",
    "fig2 = plt.figure(2)\n",
    "plt.boxplot([hours_before_error1,hours_after_error1], labels=('before','after'))\n",
    "plt.title(\"cal after how much hours error at 1/1~8/31\")\n",
    "\n",
    "plt.show()"
   ]
  },
  {
   "cell_type": "markdown",
   "metadata": {},
   "source": [
    "(ii) Compare September (testing data set)"
   ]
  },
  {
   "cell_type": "code",
   "execution_count": 102,
   "metadata": {},
   "outputs": [],
   "source": [
    "hours_before_error2=np.zeros(96)\n",
    "hours_after_error2=np.zeros(96)\n",
    "error1=0\n",
    "error2=0\n",
    "for k in range(0,96):\n",
    "    for i in range (244,274):\n",
    "        for j in range(0,71):\n",
    "            error1=error1+abs(old_x[i][(j*96)+k]-old_y[i][(j*96)+k])\n",
    "            error2=error2+abs(fit_fx[i][(j*96)+k]-old_y[i][(j*96)+k])\n",
    "    hours_before_error2[k]=error1/30/71\n",
    "    hours_after_error2[k]=error2/30/71\n",
    "    error1=0\n",
    "    error2=0"
   ]
  },
  {
   "cell_type": "code",
   "execution_count": 103,
   "metadata": {},
   "outputs": [
    {
     "data": {
      "image/png": "[encoded data removed]",
      "text/plain": [
       "<Figure size 432x288 with 1 Axes>"
      ]
     },
     "metadata": {
      "needs_background": "light",
      "transient": {}
     },
     "output_type": "display_data"
    },
    {
     "data": {
      "image/png": "[encoded data removed]",
      "text/plain": [
       "<Figure size 432x288 with 1 Axes>"
      ]
     },
     "metadata": {
      "needs_background": "light",
      "transient": {}
     },
     "output_type": "display_data"
    }
   ],
   "source": [
    "fig1 = plt.figure(1)\n",
    "x=np.linspace(1,96,96)\n",
    "plt.plot(x,hours_before_error2, label = 'before')\n",
    "plt.plot(x,hours_after_error2, label ='after')\n",
    "plt.legend(loc = 2)\n",
    "plt.title('cal after how much hours error at 9/1~9/30')\n",
    "\n",
    "fig2 = plt.figure(2)\n",
    "plt.boxplot([hours_before_error2,hours_after_error2], labels=('before','after'))\n",
    "plt.title(\"cal after how much hoyrs error at 9/1~9/30\")\n",
    "\n",
    "plt.show()"
   ]
  },
  {
   "cell_type": "markdown",
   "metadata": {},
   "source": [
    "## MADE with stations (以測站來看)"
   ]
  },
  {
   "cell_type": "markdown",
   "metadata": {},
   "source": [
    "(i) Compare January to August (training data set)"
   ]
  },
  {
   "cell_type": "code",
   "execution_count": 104,
   "metadata": {},
   "outputs": [],
   "source": [
    "station_before_error1=np.zeros(71)\n",
    "station_after_error1=np.zeros(71)\n",
    "error1=0\n",
    "error2=0\n",
    "for k in range(0,71):\n",
    "    for i in range (0,244):\n",
    "        for j in range(96*k,96*(k+1)):\n",
    "            error1=error1+abs(old_x[i][j]-old_y[i][j])\n",
    "            error2=error2+abs(fit_fx[i][j]-old_y[i][j])\n",
    "    station_before_error1[k]=error1/244/96\n",
    "    station_after_error1[k]=error2/244/96\n",
    "    error1=0\n",
    "    error2=0"
   ]
  },
  {
   "cell_type": "code",
   "execution_count": 105,
   "metadata": {},
   "outputs": [
    {
     "data": {
      "image/png": "[encoded data removed]",
      "text/plain": [
       "<Figure size 432x288 with 1 Axes>"
      ]
     },
     "metadata": {
      "needs_background": "light",
      "transient": {}
     },
     "output_type": "display_data"
    },
    {
     "data": {
      "image/png": "[encoded data removed]",
      "text/plain": [
       "<Figure size 432x288 with 1 Axes>"
      ]
     },
     "metadata": {
      "needs_background": "light",
      "transient": {}
     },
     "output_type": "display_data"
    }
   ],
   "source": [
    "fig1 = plt.figure(1)\n",
    "x=np.linspace(1,71,71)\n",
    "plt.plot(x,station_before_error1,'o', label = 'before')\n",
    "plt.plot(x,station_after_error1,'o', label ='after')\n",
    "plt.legend(loc = 2)\n",
    "plt.title('station error at 1/1~8/31')\n",
    "\n",
    "fig2 = plt.figure(2)\n",
    "plt.boxplot([station_before_error1,station_after_error1], labels=('before','after'))\n",
    "plt.title(\"station error at 1/1~8/31\")\n",
    "\n",
    "plt.show()"
   ]
  },
  {
   "cell_type": "markdown",
   "metadata": {},
   "source": [
    "(ii) Compare September (testing data set)"
   ]
  },
  {
   "cell_type": "code",
   "execution_count": 106,
   "metadata": {},
   "outputs": [],
   "source": [
    "station_before_error2=np.zeros(71)\n",
    "station_after_error2=np.zeros(71)\n",
    "error1=0\n",
    "error2=0\n",
    "for k in range(0,71):\n",
    "    for i in range (244,274):\n",
    "        for j in range(96*k,96*(k+1)):\n",
    "            error1=error1+abs(old_x[i][j]-old_y[i][j])\n",
    "            error2=error2+abs(fit_fx[i][j]-old_y[i][j])\n",
    "    station_before_error2[k]=error1/30/96\n",
    "    station_after_error2[k]=error2/30/96\n",
    "    error1=0\n",
    "    error2=0"
   ]
  },
  {
   "cell_type": "code",
   "execution_count": 107,
   "metadata": {},
   "outputs": [
    {
     "data": {
      "image/png": "[encoded data removed]",
      "text/plain": [
       "<Figure size 432x288 with 1 Axes>"
      ]
     },
     "metadata": {
      "needs_background": "light",
      "transient": {}
     },
     "output_type": "display_data"
    },
    {
     "data": {
      "image/png": "[encoded data removed]",
      "text/plain": [
       "<Figure size 432x288 with 1 Axes>"
      ]
     },
     "metadata": {
      "needs_background": "light",
      "transient": {}
     },
     "output_type": "display_data"
    }
   ],
   "source": [
    "fig1 = plt.figure(1)\n",
    "x=np.linspace(1,71,71)\n",
    "plt.plot(x,station_before_error2,'o', label = 'before')\n",
    "plt.plot(x,station_after_error2,'o', label ='after')\n",
    "plt.legend(loc = 2)\n",
    "plt.title('station error at 9/1~9/30')\n",
    "\n",
    "fig2 = plt.figure(2)\n",
    "plt.boxplot([station_before_error2,station_after_error2], labels=('before','after'))\n",
    "plt.title(\"station error at 9/1~9/30\")\n",
    "\n",
    "plt.show()"
   ]
  }
 ],
 "metadata": {
  "kernelspec": {
   "display_name": "Python 3",
   "language": "python",
   "name": "python3"
  },
  "language_info": {
   "codemirror_mode": {
    "name": "ipython",
    "version": 3
   },
   "file_extension": ".py",
   "mimetype": "text/x-python",
   "name": "python",
   "nbconvert_exporter": "python",
   "pygments_lexer": "ipython3",
   "version": "3.7.7"
  }
 },
 "nbformat": 4,
 "nbformat_minor": 4
}
